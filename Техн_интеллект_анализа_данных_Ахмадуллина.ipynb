{
  "nbformat": 4,
  "nbformat_minor": 0,
  "metadata": {
    "colab": {
      "provenance": [],
      "include_colab_link": true
    },
    "kernelspec": {
      "name": "python3",
      "display_name": "Python 3"
    },
    "language_info": {
      "name": "python"
    }
  },
  "cells": [
    {
      "cell_type": "markdown",
      "metadata": {
        "id": "view-in-github",
        "colab_type": "text"
      },
      "source": [
        "<a href=\"https://colab.research.google.com/github/adelyaahmadullina/DataAnalysis/blob/main/%D0%A2%D0%B5%D1%85%D0%BD_%D0%B8%D0%BD%D1%82%D0%B5%D0%BB%D0%BB%D0%B5%D0%BA%D1%82_%D0%B0%D0%BD%D0%B0%D0%BB%D0%B8%D0%B7%D0%B0_%D0%B4%D0%B0%D0%BD%D0%BD%D1%8B%D1%85_%D0%90%D1%85%D0%BC%D0%B0%D0%B4%D1%83%D0%BB%D0%BB%D0%B8%D0%BD%D0%B0.ipynb\" target=\"_parent\"><img src=\"https://colab.research.google.com/assets/colab-badge.svg\" alt=\"Open In Colab\"/></a>"
      ]
    },
    {
      "cell_type": "markdown",
      "source": [
        "Разработка системы обнаружения аномалий в промышленных процессах на основе данных датчиков"
      ],
      "metadata": {
        "id": "cf3U9mYMQWD8"
      }
    },
    {
      "cell_type": "code",
      "source": [
        "!pip install sktime\n"
      ],
      "metadata": {
        "colab": {
          "base_uri": "https://localhost:8080/"
        },
        "id": "rQuw7FGubE6g",
        "outputId": "d8ed481e-ee2f-4c39-f656-1343f65cdb49"
      },
      "execution_count": 4,
      "outputs": [
        {
          "output_type": "stream",
          "name": "stdout",
          "text": [
            "Requirement already satisfied: sktime in /usr/local/lib/python3.10/dist-packages (0.25.0)\n",
            "Requirement already satisfied: numpy<1.27,>=1.21 in /usr/local/lib/python3.10/dist-packages (from sktime) (1.23.5)\n",
            "Requirement already satisfied: packaging in /usr/local/lib/python3.10/dist-packages (from sktime) (23.2)\n",
            "Requirement already satisfied: pandas<2.2.0,>=1.1 in /usr/local/lib/python3.10/dist-packages (from sktime) (1.5.3)\n",
            "Requirement already satisfied: scikit-base<0.7.0 in /usr/local/lib/python3.10/dist-packages (from sktime) (0.6.2)\n",
            "Requirement already satisfied: scikit-learn<1.4.0,>=0.24 in /usr/local/lib/python3.10/dist-packages (from sktime) (1.2.2)\n",
            "Requirement already satisfied: scipy<2.0.0,>=1.2 in /usr/local/lib/python3.10/dist-packages (from sktime) (1.11.4)\n",
            "Requirement already satisfied: python-dateutil>=2.8.1 in /usr/local/lib/python3.10/dist-packages (from pandas<2.2.0,>=1.1->sktime) (2.8.2)\n",
            "Requirement already satisfied: pytz>=2020.1 in /usr/local/lib/python3.10/dist-packages (from pandas<2.2.0,>=1.1->sktime) (2023.3.post1)\n",
            "Requirement already satisfied: joblib>=1.1.1 in /usr/local/lib/python3.10/dist-packages (from scikit-learn<1.4.0,>=0.24->sktime) (1.3.2)\n",
            "Requirement already satisfied: threadpoolctl>=2.0.0 in /usr/local/lib/python3.10/dist-packages (from scikit-learn<1.4.0,>=0.24->sktime) (3.2.0)\n",
            "Requirement already satisfied: six>=1.5 in /usr/local/lib/python3.10/dist-packages (from python-dateutil>=2.8.1->pandas<2.2.0,>=1.1->sktime) (1.16.0)\n"
          ]
        }
      ]
    },
    {
      "cell_type": "code",
      "execution_count": 6,
      "metadata": {
        "colab": {
          "base_uri": "https://localhost:8080/"
        },
        "id": "dRq_SOXtQRKg",
        "outputId": "794732d7-4d8d-4f3d-9c48-0a333a28846e"
      },
      "outputs": [
        {
          "output_type": "stream",
          "name": "stdout",
          "text": [
            "Performance Metrics:\n",
            "Accuracy: 0.9899264906071331\n"
          ]
        }
      ],
      "source": [
        "import pandas as pd\n",
        "import numpy as np\n",
        "from sklearn.ensemble import IsolationForest\n",
        "from sklearn.preprocessing import StandardScaler\n",
        "from sklearn.metrics import accuracy_score, precision_score, recall_score, f1_score\n",
        "import matplotlib.pyplot as plt\n",
        "\n",
        "# Загрузка данных\n",
        "file_path = \"/content/TrainingDataConveyor.csv\"  # Заменить на реальный путь к файлу\n",
        "data = pd.read_csv(file_path)\n",
        "\n",
        "# Обработка пропущенных значений (замена на среднее)\n",
        "data.fillna(data.mean(), inplace=True)\n",
        "\n",
        "# Выбор колонки с временными метками и целевыми переменными\n",
        "timestamps = data['Timestamp']\n",
        "features = data.drop(['Timestamp'], axis=1)\n",
        "\n",
        "# Нормализация данных\n",
        "scaler = StandardScaler()\n",
        "features_normalized = scaler.fit_transform(features)\n",
        "\n",
        "# Использование Isolation Forest для обнаружения аномалий\n",
        "model = IsolationForest(contamination=0.01, random_state=42)\n",
        "predictions = model.fit_predict(features_normalized)\n",
        "\n",
        "# Оценка производительности\n",
        "true_labels = np.ones(len(data))  # Предположим, что все примеры являются \"нормальными\"\n",
        "performance_metrics = {\n",
        "    'Accuracy': accuracy_score(true_labels, predictions)\n",
        "}\n",
        "print(\"Performance Metrics:\")\n",
        "for metric, value in performance_metrics.items():\n",
        "    print(f\"{metric}: {value}\")\n",
        "\n"
      ]
    }
  ]
}